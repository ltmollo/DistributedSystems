{
 "cells": [
  {
   "cell_type": "code",
   "execution_count": 1,
   "id": "09ebf26b",
   "metadata": {},
   "outputs": [
    {
     "name": "stderr",
     "output_type": "stream",
     "text": [
      "2024-04-18 19:37:20,448\tINFO worker.py:1743 -- Started a local Ray instance. View the dashboard at \u001b[1m\u001b[32m127.0.0.1:8266 \u001b[39m\u001b[22m\n"
     ]
    },
    {
     "ename": "AttributeError",
     "evalue": "'ActorHandle' object has no attribute 'node_id'",
     "output_type": "error",
     "traceback": [
      "\u001b[1;31m---------------------------------------------------------------------------\u001b[0m",
      "\u001b[1;31mAttributeError\u001b[0m                            Traceback (most recent call last)",
      "Cell \u001b[1;32mIn[1], line 61\u001b[0m\n\u001b[0;32m     59\u001b[0m \u001b[38;5;66;03m# Wyświetlenie przechowywanych bloków na StorageNodes\u001b[39;00m\n\u001b[0;32m     60\u001b[0m \u001b[38;5;28;01mfor\u001b[39;00m storage_node \u001b[38;5;129;01min\u001b[39;00m storage_nodes:\n\u001b[1;32m---> 61\u001b[0m     \u001b[38;5;28mprint\u001b[39m(\u001b[38;5;124m\"\u001b[39m\u001b[38;5;124mStorage Node ID:\u001b[39m\u001b[38;5;124m\"\u001b[39m, \u001b[43mstorage_node\u001b[49m\u001b[38;5;241;43m.\u001b[39;49m\u001b[43mnode_id\u001b[49m)\n\u001b[0;32m     62\u001b[0m     \u001b[38;5;28mprint\u001b[39m(\u001b[38;5;124m\"\u001b[39m\u001b[38;5;124mStored Blocks:\u001b[39m\u001b[38;5;124m\"\u001b[39m, ray\u001b[38;5;241m.\u001b[39mget(storage_node\u001b[38;5;241m.\u001b[39mstored_blocks\u001b[38;5;241m.\u001b[39mremote()))\n\u001b[0;32m     63\u001b[0m     \u001b[38;5;28mprint\u001b[39m()\n",
      "File \u001b[1;32m~\\AppData\\Roaming\\Python\\Python311\\site-packages\\ray\\actor.py:1471\u001b[0m, in \u001b[0;36mActorHandle.__getattr__\u001b[1;34m(self, item)\u001b[0m\n\u001b[0;32m   1469\u001b[0m \u001b[38;5;28;01mdef\u001b[39;00m \u001b[38;5;21m__getattr__\u001b[39m(\u001b[38;5;28mself\u001b[39m, item):\n\u001b[0;32m   1470\u001b[0m     \u001b[38;5;28;01mif\u001b[39;00m \u001b[38;5;129;01mnot\u001b[39;00m \u001b[38;5;28mself\u001b[39m\u001b[38;5;241m.\u001b[39m_ray_is_cross_language:\n\u001b[1;32m-> 1471\u001b[0m         \u001b[38;5;28;01mraise\u001b[39;00m \u001b[38;5;167;01mAttributeError\u001b[39;00m(\n\u001b[0;32m   1472\u001b[0m             \u001b[38;5;124mf\u001b[39m\u001b[38;5;124m\"\u001b[39m\u001b[38;5;124m'\u001b[39m\u001b[38;5;132;01m{\u001b[39;00m\u001b[38;5;28mtype\u001b[39m(\u001b[38;5;28mself\u001b[39m)\u001b[38;5;241m.\u001b[39m\u001b[38;5;18m__name__\u001b[39m\u001b[38;5;132;01m}\u001b[39;00m\u001b[38;5;124m'\u001b[39m\u001b[38;5;124m object has \u001b[39m\u001b[38;5;124m\"\u001b[39m \u001b[38;5;124mf\u001b[39m\u001b[38;5;124m\"\u001b[39m\u001b[38;5;124mno attribute \u001b[39m\u001b[38;5;124m'\u001b[39m\u001b[38;5;132;01m{\u001b[39;00mitem\u001b[38;5;132;01m}\u001b[39;00m\u001b[38;5;124m'\u001b[39m\u001b[38;5;124m\"\u001b[39m\n\u001b[0;32m   1473\u001b[0m         )\n\u001b[0;32m   1474\u001b[0m     \u001b[38;5;28;01mif\u001b[39;00m item \u001b[38;5;129;01min\u001b[39;00m [\u001b[38;5;124m\"\u001b[39m\u001b[38;5;124m__ray_terminate__\u001b[39m\u001b[38;5;124m\"\u001b[39m]:\n\u001b[0;32m   1476\u001b[0m         \u001b[38;5;28;01mclass\u001b[39;00m \u001b[38;5;21;01mFakeActorMethod\u001b[39;00m(\u001b[38;5;28mobject\u001b[39m):\n",
      "\u001b[1;31mAttributeError\u001b[0m: 'ActorHandle' object has no attribute 'node_id'"
     ]
    }
   ],
   "source": [
    "import ray\n",
    "import random\n",
    "\n",
    "# Inicjalizacja Ray\n",
    "ray.init()\n",
    "\n",
    "# Definicja aktora NameNode\n",
    "@ray.remote\n",
    "class NameNode:\n",
    "    def __init__(self):\n",
    "        # Słownik przechowujący mapowanie nazwy artefaktu do listy bloków\n",
    "        self.artifact_blocks = {}\n",
    "\n",
    "    def distribute_artifact(self, artifact_name, artifact_data, num_copies=3, block_size=100):\n",
    "        # Obliczanie liczby bloków\n",
    "        num_blocks = (len(artifact_data) + block_size - 1) // block_size\n",
    "\n",
    "        # Generowanie kopii bloków\n",
    "        blocks = [[random.randint(1, 100) for _ in range(block_size)] for _ in range(num_blocks)]\n",
    "        \n",
    "        # Przypisanie bloków do artefaktu\n",
    "        self.artifact_blocks[artifact_name] = blocks\n",
    "\n",
    "        # Zwrócenie informacji o przypisaniu bloków\n",
    "        return {\"artifact_name\": artifact_name, \"blocks\": blocks}\n",
    "\n",
    "\n",
    "# Definicja aktora StorageNode\n",
    "@ray.remote\n",
    "class StorageNode:\n",
    "    def __init__(self, node_id):\n",
    "        self.node_id = node_id\n",
    "        self.stored_blocks = {}\n",
    "\n",
    "    def store_blocks(self, blocks):\n",
    "        # Przechowywanie bloków na węźle\n",
    "        for block_index, block_data in enumerate(blocks):\n",
    "            self.stored_blocks[block_index] = block_data\n",
    "\n",
    "        # Zwrócenie informacji o przechowywanych blokach\n",
    "        return {\"node_id\": self.node_id, \"stored_blocks\": list(self.stored_blocks.keys())}\n",
    "\n",
    "\n",
    "# Inicjalizacja aktora NameNode\n",
    "name_node = NameNode.remote()\n",
    "\n",
    "# Inicjalizacja aktorów StorageNode\n",
    "storage_nodes = [StorageNode.remote(node_id) for node_id in range(1, 4)]\n",
    "\n",
    "# Dystrybucja artefaktu przez NameNode\n",
    "artifact_name = \"example_artifact\"\n",
    "artifact_data = \"Lorem ipsum dolor sit amet, consectetur adipiscing elit.\"\n",
    "result = ray.get(name_node.distribute_artifact.remote(artifact_name, artifact_data))\n",
    "\n",
    "# Przechowywanie bloków przez StorageNodes\n",
    "for storage_node in storage_nodes:\n",
    "    ray.get(storage_node.store_blocks.remote(result[\"blocks\"]))\n",
    "\n",
    "# Wyświetlenie przechowywanych bloków na StorageNodes\n",
    "for storage_node in storage_nodes:\n",
    "    print(\"Storage Node ID:\", storage_node.node_id)\n",
    "    print(\"Stored Blocks:\", ray.get(storage_node.stored_blocks.remote()))\n",
    "    print()\n"
   ]
  },
  {
   "cell_type": "code",
   "execution_count": null,
   "id": "52d1ef24",
   "metadata": {},
   "outputs": [],
   "source": []
  }
 ],
 "metadata": {
  "kernelspec": {
   "display_name": "Python-3.11",
   "language": "python",
   "name": "python-3.11"
  },
  "language_info": {
   "codemirror_mode": {
    "name": "ipython",
    "version": 3
   },
   "file_extension": ".py",
   "mimetype": "text/x-python",
   "name": "python",
   "nbconvert_exporter": "python",
   "pygments_lexer": "ipython3",
   "version": "3.11.0"
  }
 },
 "nbformat": 4,
 "nbformat_minor": 5
}
